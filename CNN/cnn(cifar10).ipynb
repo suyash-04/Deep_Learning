{
  "cells": [
    {
      "cell_type": "code",
      "execution_count": 27,
      "metadata": {
        "id": "63r56VwxZ-dB"
      },
      "outputs": [],
      "source": [
        "import tensorflow as tf\n",
        "from tensorflow.keras import datasets, layers, optimizers, Sequential, metrics, models\n",
        "from tensorflow.keras.layers import Flatten, Dense\n",
        "import matplotlib.pyplot as plt\n",
        "%matplotlib inline\n",
        "import numpy as np"
      ]
    },
    {
      "cell_type": "code",
      "execution_count": 3,
      "metadata": {
        "colab": {
          "base_uri": "https://localhost:8080/"
        },
        "id": "RUb0CVvcaWmI",
        "outputId": "b22e5cc4-c47e-41d3-deb6-19613d7bc5d2"
      },
      "outputs": [
        {
          "data": {
            "text/plain": [
              "(50000, 32, 32, 3)"
            ]
          },
          "execution_count": 3,
          "metadata": {},
          "output_type": "execute_result"
        }
      ],
      "source": [
        "(X_train, y_train), (X_test, y_test) = datasets.cifar10.load_data()\n",
        "X_train.shape\n"
      ]
    },
    {
      "cell_type": "code",
      "execution_count": 12,
      "metadata": {
        "colab": {
          "base_uri": "https://localhost:8080/"
        },
        "id": "rwinIfRPcPMJ",
        "outputId": "9b731b8e-f140-42c8-8756-5f84a56a9b36"
      },
      "outputs": [
        {
          "data": {
            "text/plain": [
              "(50000,)"
            ]
          },
          "execution_count": 12,
          "metadata": {},
          "output_type": "execute_result"
        }
      ],
      "source": [
        "y_train = y_train.reshape(-1,)\n",
        "y_train.shape"
      ]
    },
    {
      "cell_type": "code",
      "execution_count": 19,
      "metadata": {
        "id": "FLxmE2kza7hu"
      },
      "outputs": [],
      "source": [
        "classes = ['airplane', 'automobile',' bird','cat','deer','dog ','frog ','horse','ship','truck']"
      ]
    },
    {
      "cell_type": "code",
      "execution_count": 20,
      "metadata": {
        "colab": {
          "base_uri": "https://localhost:8080/",
          "height": 161
        },
        "id": "zFqvFnJ9bKr5",
        "outputId": "0dbbc807-4472-429e-cd10-b011addb0cda"
      },
      "outputs": [
        {
          "data": {
            "image/png": "[encoded data removed]",
            "text/plain": [
              "<Figure size 1000x100 with 1 Axes>"
            ]
          },
          "metadata": {},
          "output_type": "display_data"
        }
      ],
      "source": [
        "def plot_sample(X,y, index):\n",
        "  plt.figure(figsize=(10,1))\n",
        "  plt.imshow(X[index])\n",
        "  plt.xlabel(classes[y[index]])\n",
        "plot_sample(X_train, y_train, 100)"
      ]
    },
    {
      "cell_type": "code",
      "execution_count": 21,
      "metadata": {
        "id": "sq2VOr8mbQnt"
      },
      "outputs": [],
      "source": [
        "X_train, X_test = X_train/255.0, X_test/255.0"
      ]
    },
    {
      "cell_type": "code",
      "execution_count": 30,
      "metadata": {
        "colab": {
          "base_uri": "https://localhost:8080/"
        },
        "id": "q13EkQ1CdGs9",
        "outputId": "cad91a2b-0f1a-468b-dcd4-dec30e81ddf3"
      },
      "outputs": [
        {
          "name": "stdout",
          "output_type": "stream",
          "text": [
            "Epoch 1/5\n",
            "\u001b[1m1563/1563\u001b[0m \u001b[32m━━━━━━━━━━━━━━━━━━━━\u001b[0m\u001b[37m\u001b[0m \u001b[1m10s\u001b[0m 5ms/step - accuracy: 0.2780 - loss: 2.2176\n",
            "Epoch 2/5\n",
            "\u001b[1m1563/1563\u001b[0m \u001b[32m━━━━━━━━━━━━━━━━━━━━\u001b[0m\u001b[37m\u001b[0m \u001b[1m6s\u001b[0m 4ms/step - accuracy: 0.3984 - loss: 1.6814\n",
            "Epoch 3/5\n",
            "\u001b[1m1563/1563\u001b[0m \u001b[32m━━━━━━━━━━━━━━━━━━━━\u001b[0m\u001b[37m\u001b[0m \u001b[1m10s\u001b[0m 4ms/step - accuracy: 0.4232 - loss: 1.6031\n",
            "Epoch 4/5\n",
            "\u001b[1m1563/1563\u001b[0m \u001b[32m━━━━━━━━━━━━━━━━━━━━\u001b[0m\u001b[37m\u001b[0m \u001b[1m6s\u001b[0m 4ms/step - accuracy: 0.4452 - loss: 1.5485\n",
            "Epoch 5/5\n",
            "\u001b[1m1563/1563\u001b[0m \u001b[32m━━━━━━━━━━━━━━━━━━━━\u001b[0m\u001b[37m\u001b[0m \u001b[1m10s\u001b[0m 4ms/step - accuracy: 0.4581 - loss: 1.5069\n"
          ]
        },
        {
          "data": {
            "text/plain": [
              "<keras.src.callbacks.history.History at 0x7ac6422d5000>"
            ]
          },
          "execution_count": 30,
          "metadata": {},
          "output_type": "execute_result"
        }
      ],
      "source": [
        "model = models.Sequential([\n",
        "    layers.Flatten(input_shape = (32,32,3)),\n",
        "    layers.Dense (3000, activation = 'relu'),\n",
        "    layers.Dense (1000, activation = 'relu'),\n",
        "    layers.Dense (10, activation = 'softmax')\n",
        "])\n",
        "model.compile(optimizer = 'adam', loss = \"sparse_categorical_crossentropy\", metrics = ['accuracy'])\n",
        "model.fit(X_train, y_train, epochs = 5)"
      ]
    },
    {
      "cell_type": "code",
      "execution_count": 31,
      "metadata": {
        "colab": {
          "base_uri": "https://localhost:8080/"
        },
        "id": "Zu6TG8f2d7Jr",
        "outputId": "92f46b79-79e2-47e1-8d73-58351a23d011"
      },
      "outputs": [
        {
          "name": "stdout",
          "output_type": "stream",
          "text": [
            "\u001b[1m313/313\u001b[0m \u001b[32m━━━━━━━━━━━━━━━━━━━━\u001b[0m\u001b[37m\u001b[0m \u001b[1m1s\u001b[0m 3ms/step - accuracy: 0.4692 - loss: 1.4984\n"
          ]
        },
        {
          "data": {
            "text/plain": [
              "[1.5066033601760864, 0.4641000032424927]"
            ]
          },
          "execution_count": 31,
          "metadata": {},
          "output_type": "execute_result"
        }
      ],
      "source": [
        "model.evaluate(X_test, y_test)"
      ]
    },
    {
      "cell_type": "code",
      "execution_count": 33,
      "metadata": {
        "colab": {
          "base_uri": "https://localhost:8080/"
        },
        "id": "Wrm-7WL1ejlr",
        "outputId": "cfb6d475-0311-4fad-83c8-44f4047d260e"
      },
      "outputs": [
        {
          "name": "stdout",
          "output_type": "stream",
          "text": [
            "\u001b[1m313/313\u001b[0m \u001b[32m━━━━━━━━━━━━━━━━━━━━\u001b[0m\u001b[37m\u001b[0m \u001b[1m1s\u001b[0m 2ms/step\n",
            "Classification Report: \n",
            "               precision    recall  f1-score   support\n",
            "\n",
            "           0       0.47      0.60      0.53      1000\n",
            "           1       0.59      0.55      0.57      1000\n",
            "           2       0.33      0.36      0.34      1000\n",
            "           3       0.41      0.20      0.27      1000\n",
            "           4       0.37      0.38      0.37      1000\n",
            "           5       0.48      0.26      0.34      1000\n",
            "           6       0.43      0.58      0.50      1000\n",
            "           7       0.50      0.54      0.52      1000\n",
            "           8       0.55      0.61      0.58      1000\n",
            "           9       0.49      0.55      0.52      1000\n",
            "\n",
            "    accuracy                           0.46     10000\n",
            "   macro avg       0.46      0.46      0.45     10000\n",
            "weighted avg       0.46      0.46      0.45     10000\n",
            "\n"
          ]
        }
      ],
      "source": [
        "from sklearn.metrics import confusion_matrix, classification_report\n",
        "y_pred = model.predict(X_test)\n",
        "y_pred_classes = [np.argmax(element) for element in y_pred]\n",
        "print(\"Classification Report: \\n\", classification_report(y_test, y_pred_classes))"
      ]
    },
    {
      "cell_type": "code",
      "execution_count": 43,
      "metadata": {
        "id": "USHlrkUBfF9l"
      },
      "outputs": [],
      "source": [
        "cnn = models.Sequential([\n",
        "    layers.Conv2D(filters = 32, kernel_size = (3,3), activation = 'relu', input_shape = (32,32,3)),\n",
        "    layers.MaxPooling2D((2,2)),\n",
        "    layers.Conv2D(filters = 64, kernel_size = (3,3), activation = 'relu'),\n",
        "    layers.MaxPooling2D((2,2)),\n",
        "    layers.Conv2D(filters = 64, kernel_size = (3,3), activation = 'relu'),\n",
        "    layers.MaxPooling2D((2,2)),\n",
        "    layers.Flatten(input_shape = (32,32,3)),\n",
        "    layers.Dense (3000, activation = 'relu'),\n",
        "    layers.Dense (1000, activation = 'relu'),\n",
        "    layers.Dense (10, activation = 'softmax')\n",
        "])"
      ]
    },
    {
      "cell_type": "code",
      "execution_count": 44,
      "metadata": {
        "colab": {
          "base_uri": "https://localhost:8080/"
        },
        "id": "T9sQu6r9fdvE",
        "outputId": "b2053519-236d-47da-900a-eb899f3a1500"
      },
      "outputs": [
        {
          "name": "stdout",
          "output_type": "stream",
          "text": [
            "Epoch 1/10\n",
            "\u001b[1m1563/1563\u001b[0m \u001b[32m━━━━━━━━━━━━━━━━━━━━\u001b[0m\u001b[37m\u001b[0m \u001b[1m11s\u001b[0m 5ms/step - accuracy: 0.3442 - loss: 1.7350\n",
            "Epoch 2/10\n",
            "\u001b[1m1563/1563\u001b[0m \u001b[32m━━━━━━━━━━━━━━━━━━━━\u001b[0m\u001b[37m\u001b[0m \u001b[1m6s\u001b[0m 3ms/step - accuracy: 0.5693 - loss: 1.2016\n",
            "Epoch 3/10\n",
            "\u001b[1m1563/1563\u001b[0m \u001b[32m━━━━━━━━━━━━━━━━━━━━\u001b[0m\u001b[37m\u001b[0m \u001b[1m10s\u001b[0m 3ms/step - accuracy: 0.6397 - loss: 1.0161\n",
            "Epoch 4/10\n",
            "\u001b[1m1563/1563\u001b[0m \u001b[32m━━━━━━━━━━━━━━━━━━━━\u001b[0m\u001b[37m\u001b[0m \u001b[1m10s\u001b[0m 3ms/step - accuracy: 0.6781 - loss: 0.9063\n",
            "Epoch 5/10\n",
            "\u001b[1m1563/1563\u001b[0m \u001b[32m━━━━━━━━━━━━━━━━━━━━\u001b[0m\u001b[37m\u001b[0m \u001b[1m7s\u001b[0m 4ms/step - accuracy: 0.7166 - loss: 0.7984\n",
            "Epoch 6/10\n",
            "\u001b[1m1563/1563\u001b[0m \u001b[32m━━━━━━━━━━━━━━━━━━━━\u001b[0m\u001b[37m\u001b[0m \u001b[1m9s\u001b[0m 3ms/step - accuracy: 0.7432 - loss: 0.7226\n",
            "Epoch 7/10\n",
            "\u001b[1m1563/1563\u001b[0m \u001b[32m━━━━━━━━━━━━━━━━━━━━\u001b[0m\u001b[37m\u001b[0m \u001b[1m10s\u001b[0m 3ms/step - accuracy: 0.7705 - loss: 0.6360\n",
            "Epoch 8/10\n",
            "\u001b[1m1563/1563\u001b[0m \u001b[32m━━━━━━━━━━━━━━━━━━━━\u001b[0m\u001b[37m\u001b[0m \u001b[1m10s\u001b[0m 3ms/step - accuracy: 0.8015 - loss: 0.5588\n",
            "Epoch 9/10\n",
            "\u001b[1m1563/1563\u001b[0m \u001b[32m━━━━━━━━━━━━━━━━━━━━\u001b[0m\u001b[37m\u001b[0m \u001b[1m11s\u001b[0m 4ms/step - accuracy: 0.8230 - loss: 0.4919\n",
            "Epoch 10/10\n",
            "\u001b[1m1563/1563\u001b[0m \u001b[32m━━━━━━━━━━━━━━━━━━━━\u001b[0m\u001b[37m\u001b[0m \u001b[1m5s\u001b[0m 3ms/step - accuracy: 0.8536 - loss: 0.4079\n"
          ]
        },
        {
          "data": {
            "text/plain": [
              "<keras.src.callbacks.history.History at 0x7ac53c42bf40>"
            ]
          },
          "execution_count": 44,
          "metadata": {},
          "output_type": "execute_result"
        }
      ],
      "source": [
        "cnn.compile(optimizer = 'adam', loss = \"sparse_categorical_crossentropy\", metrics = ['accuracy'])\n",
        "cnn.fit(X_train, y_train, epochs = 10)"
      ]
    },
    {
      "cell_type": "code",
      "execution_count": 45,
      "metadata": {
        "colab": {
          "base_uri": "https://localhost:8080/"
        },
        "id": "Q_X6zqxTfhT5",
        "outputId": "057a5475-3ad6-450c-d59d-177db0a8f9a3"
      },
      "outputs": [
        {
          "name": "stdout",
          "output_type": "stream",
          "text": [
            "\u001b[1m313/313\u001b[0m \u001b[32m━━━━━━━━━━━━━━━━━━━━\u001b[0m\u001b[37m\u001b[0m \u001b[1m2s\u001b[0m 4ms/step - accuracy: 0.6992 - loss: 1.0425\n"
          ]
        },
        {
          "data": {
            "text/plain": [
              "[1.0283446311950684, 0.7028999924659729]"
            ]
          },
          "execution_count": 45,
          "metadata": {},
          "output_type": "execute_result"
        }
      ],
      "source": [
        "cnn.evaluate(X_test,y_test)"
      ]
    },
    {
      "cell_type": "code",
      "execution_count": 46,
      "metadata": {
        "colab": {
          "base_uri": "https://localhost:8080/"
        },
        "id": "CyLp6DjvgInP",
        "outputId": "fb49e922-1842-4dae-f689-66dad95b2ca7"
      },
      "outputs": [
        {
          "name": "stdout",
          "output_type": "stream",
          "text": [
            "\u001b[1m313/313\u001b[0m \u001b[32m━━━━━━━━━━━━━━━━━━━━\u001b[0m\u001b[37m\u001b[0m \u001b[1m1s\u001b[0m 2ms/step\n",
            "Classification Report: \n",
            "               precision    recall  f1-score   support\n",
            "\n",
            "           0       0.67      0.75      0.71      1000\n",
            "           1       0.86      0.77      0.81      1000\n",
            "           2       0.60      0.61      0.61      1000\n",
            "           3       0.51      0.55      0.53      1000\n",
            "           4       0.67      0.69      0.68      1000\n",
            "           5       0.64      0.60      0.62      1000\n",
            "           6       0.82      0.72      0.77      1000\n",
            "           7       0.75      0.75      0.75      1000\n",
            "           8       0.74      0.84      0.79      1000\n",
            "           9       0.83      0.74      0.78      1000\n",
            "\n",
            "    accuracy                           0.70     10000\n",
            "   macro avg       0.71      0.70      0.70     10000\n",
            "weighted avg       0.71      0.70      0.70     10000\n",
            "\n"
          ]
        }
      ],
      "source": [
        "y_pred = cnn.predict(X_test)\n",
        "y_pred_classes = [np.argmax(element) for element in y_pred]\n",
        "print(\"Classification Report: \\n\", classification_report(y_test, y_pred_classes))"
      ]
    },
    {
      "cell_type": "code",
      "execution_count": null,
      "metadata": {
        "id": "J8ip2nfEgNLX"
      },
      "outputs": [],
      "source": []
    }
  ],
  "metadata": {
    "accelerator": "GPU",
    "colab": {
      "gpuType": "T4",
      "provenance": []
    },
    "kernelspec": {
      "display_name": "Python 3",
      "name": "python3"
    },
    "language_info": {
      "name": "python"
    }
  },
  "nbformat": 4,
  "nbformat_minor": 0
}
